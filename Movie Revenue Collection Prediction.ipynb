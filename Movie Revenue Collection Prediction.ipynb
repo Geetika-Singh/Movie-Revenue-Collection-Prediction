{
 "cells": [
  {
   "cell_type": "markdown",
   "id": "55c0d962",
   "metadata": {},
   "source": [
    "### ANN Regression\n",
    "model to predict the revenue collection of a movie based on factors such as budget, genre, actor rating etc."
   ]
  },
  {
   "cell_type": "code",
   "execution_count": 1,
   "id": "053e42e2",
   "metadata": {},
   "outputs": [],
   "source": [
    "import numpy as np\n",
    "import pandas as pd\n",
    "import matplotlib.pyplot as plt\n",
    "%matplotlib inline\n",
    "import tensorflow as tf\n",
    "from tensorflow import keras"
   ]
  },
  {
   "cell_type": "code",
   "execution_count": 2,
   "id": "88c47b2b",
   "metadata": {},
   "outputs": [],
   "source": [
    "data_x = pd.read_csv(\"Movie_collection_Independent_data.csv\")\n",
    "data_y = pd.read_csv(\"Movie_collection_Target_data.csv\")"
   ]
  },
  {
   "cell_type": "code",
   "execution_count": 3,
   "id": "9a994343",
   "metadata": {},
   "outputs": [
    {
     "data": {
      "text/plain": [
       "(506, 19)"
      ]
     },
     "execution_count": 3,
     "metadata": {},
     "output_type": "execute_result"
    }
   ],
   "source": [
    "data_x.shape"
   ]
  },
  {
   "cell_type": "code",
   "execution_count": 4,
   "id": "c7463258",
   "metadata": {},
   "outputs": [
    {
     "data": {
      "text/plain": [
       "(506, 1)"
      ]
     },
     "execution_count": 4,
     "metadata": {},
     "output_type": "execute_result"
    }
   ],
   "source": [
    "data_y.shape"
   ]
  },
  {
   "cell_type": "code",
   "execution_count": 5,
   "id": "628cab9e",
   "metadata": {},
   "outputs": [
    {
     "data": {
      "text/html": [
       "<div>\n",
       "<style scoped>\n",
       "    .dataframe tbody tr th:only-of-type {\n",
       "        vertical-align: middle;\n",
       "    }\n",
       "\n",
       "    .dataframe tbody tr th {\n",
       "        vertical-align: top;\n",
       "    }\n",
       "\n",
       "    .dataframe thead th {\n",
       "        text-align: right;\n",
       "    }\n",
       "</style>\n",
       "<table border=\"1\" class=\"dataframe\">\n",
       "  <thead>\n",
       "    <tr style=\"text-align: right;\">\n",
       "      <th></th>\n",
       "      <th>Marketin_expense</th>\n",
       "      <th>Production_expense</th>\n",
       "      <th>Multiplex_coverage</th>\n",
       "      <th>Budget</th>\n",
       "      <th>Movie_length</th>\n",
       "      <th>Lead_ Actor_Rating</th>\n",
       "      <th>Lead_Actress_rating</th>\n",
       "      <th>Director_rating</th>\n",
       "      <th>Producer_rating</th>\n",
       "      <th>Critic_rating</th>\n",
       "      <th>Trailer_views</th>\n",
       "      <th>Time_taken</th>\n",
       "      <th>Twitter_hastags</th>\n",
       "      <th>Avg_age_actors</th>\n",
       "      <th>Num_multiplex</th>\n",
       "      <th>3D_available</th>\n",
       "      <th>Genre_Thriller</th>\n",
       "      <th>Genre_Drama</th>\n",
       "      <th>Genre_Comedy</th>\n",
       "    </tr>\n",
       "  </thead>\n",
       "  <tbody>\n",
       "    <tr>\n",
       "      <th>0</th>\n",
       "      <td>20.1264</td>\n",
       "      <td>59.62</td>\n",
       "      <td>0.462</td>\n",
       "      <td>36524.125</td>\n",
       "      <td>138.7</td>\n",
       "      <td>7.825</td>\n",
       "      <td>8.095</td>\n",
       "      <td>7.910</td>\n",
       "      <td>7.995</td>\n",
       "      <td>7.94</td>\n",
       "      <td>527367</td>\n",
       "      <td>109.60</td>\n",
       "      <td>223.840</td>\n",
       "      <td>23</td>\n",
       "      <td>494</td>\n",
       "      <td>1</td>\n",
       "      <td>1</td>\n",
       "      <td>0</td>\n",
       "      <td>0</td>\n",
       "    </tr>\n",
       "    <tr>\n",
       "      <th>1</th>\n",
       "      <td>20.5462</td>\n",
       "      <td>69.14</td>\n",
       "      <td>0.531</td>\n",
       "      <td>35668.655</td>\n",
       "      <td>152.4</td>\n",
       "      <td>7.505</td>\n",
       "      <td>7.650</td>\n",
       "      <td>7.440</td>\n",
       "      <td>7.470</td>\n",
       "      <td>7.44</td>\n",
       "      <td>494055</td>\n",
       "      <td>146.64</td>\n",
       "      <td>243.456</td>\n",
       "      <td>42</td>\n",
       "      <td>462</td>\n",
       "      <td>0</td>\n",
       "      <td>0</td>\n",
       "      <td>1</td>\n",
       "      <td>0</td>\n",
       "    </tr>\n",
       "    <tr>\n",
       "      <th>2</th>\n",
       "      <td>20.5458</td>\n",
       "      <td>69.14</td>\n",
       "      <td>0.531</td>\n",
       "      <td>39912.675</td>\n",
       "      <td>134.6</td>\n",
       "      <td>7.485</td>\n",
       "      <td>7.570</td>\n",
       "      <td>7.495</td>\n",
       "      <td>7.515</td>\n",
       "      <td>7.44</td>\n",
       "      <td>547051</td>\n",
       "      <td>147.88</td>\n",
       "      <td>2022.400</td>\n",
       "      <td>38</td>\n",
       "      <td>458</td>\n",
       "      <td>0</td>\n",
       "      <td>0</td>\n",
       "      <td>0</td>\n",
       "      <td>1</td>\n",
       "    </tr>\n",
       "    <tr>\n",
       "      <th>3</th>\n",
       "      <td>20.6474</td>\n",
       "      <td>59.36</td>\n",
       "      <td>0.542</td>\n",
       "      <td>38873.890</td>\n",
       "      <td>119.3</td>\n",
       "      <td>6.895</td>\n",
       "      <td>7.035</td>\n",
       "      <td>6.920</td>\n",
       "      <td>7.020</td>\n",
       "      <td>8.26</td>\n",
       "      <td>516279</td>\n",
       "      <td>185.36</td>\n",
       "      <td>225.344</td>\n",
       "      <td>45</td>\n",
       "      <td>472</td>\n",
       "      <td>1</td>\n",
       "      <td>0</td>\n",
       "      <td>1</td>\n",
       "      <td>0</td>\n",
       "    </tr>\n",
       "    <tr>\n",
       "      <th>4</th>\n",
       "      <td>21.3810</td>\n",
       "      <td>59.36</td>\n",
       "      <td>0.542</td>\n",
       "      <td>39701.585</td>\n",
       "      <td>127.7</td>\n",
       "      <td>6.920</td>\n",
       "      <td>7.070</td>\n",
       "      <td>6.815</td>\n",
       "      <td>7.070</td>\n",
       "      <td>8.26</td>\n",
       "      <td>531448</td>\n",
       "      <td>176.48</td>\n",
       "      <td>225.792</td>\n",
       "      <td>55</td>\n",
       "      <td>395</td>\n",
       "      <td>0</td>\n",
       "      <td>0</td>\n",
       "      <td>1</td>\n",
       "      <td>0</td>\n",
       "    </tr>\n",
       "  </tbody>\n",
       "</table>\n",
       "</div>"
      ],
      "text/plain": [
       "   Marketin_expense  Production_expense  Multiplex_coverage     Budget  \\\n",
       "0           20.1264               59.62               0.462  36524.125   \n",
       "1           20.5462               69.14               0.531  35668.655   \n",
       "2           20.5458               69.14               0.531  39912.675   \n",
       "3           20.6474               59.36               0.542  38873.890   \n",
       "4           21.3810               59.36               0.542  39701.585   \n",
       "\n",
       "   Movie_length  Lead_ Actor_Rating  Lead_Actress_rating  Director_rating  \\\n",
       "0         138.7               7.825                8.095            7.910   \n",
       "1         152.4               7.505                7.650            7.440   \n",
       "2         134.6               7.485                7.570            7.495   \n",
       "3         119.3               6.895                7.035            6.920   \n",
       "4         127.7               6.920                7.070            6.815   \n",
       "\n",
       "   Producer_rating  Critic_rating  Trailer_views  Time_taken  Twitter_hastags  \\\n",
       "0            7.995           7.94         527367      109.60          223.840   \n",
       "1            7.470           7.44         494055      146.64          243.456   \n",
       "2            7.515           7.44         547051      147.88         2022.400   \n",
       "3            7.020           8.26         516279      185.36          225.344   \n",
       "4            7.070           8.26         531448      176.48          225.792   \n",
       "\n",
       "   Avg_age_actors  Num_multiplex  3D_available  Genre_Thriller  Genre_Drama  \\\n",
       "0              23            494             1               1            0   \n",
       "1              42            462             0               0            1   \n",
       "2              38            458             0               0            0   \n",
       "3              45            472             1               0            1   \n",
       "4              55            395             0               0            1   \n",
       "\n",
       "   Genre_Comedy  \n",
       "0             0  \n",
       "1             0  \n",
       "2             1  \n",
       "3             0  \n",
       "4             0  "
      ]
     },
     "execution_count": 5,
     "metadata": {},
     "output_type": "execute_result"
    }
   ],
   "source": [
    "data_x.head()"
   ]
  },
  {
   "cell_type": "code",
   "execution_count": 6,
   "id": "7f97b74b",
   "metadata": {},
   "outputs": [
    {
     "data": {
      "text/html": [
       "<div>\n",
       "<style scoped>\n",
       "    .dataframe tbody tr th:only-of-type {\n",
       "        vertical-align: middle;\n",
       "    }\n",
       "\n",
       "    .dataframe tbody tr th {\n",
       "        vertical-align: top;\n",
       "    }\n",
       "\n",
       "    .dataframe thead th {\n",
       "        text-align: right;\n",
       "    }\n",
       "</style>\n",
       "<table border=\"1\" class=\"dataframe\">\n",
       "  <thead>\n",
       "    <tr style=\"text-align: right;\">\n",
       "      <th></th>\n",
       "      <th>Collection</th>\n",
       "    </tr>\n",
       "  </thead>\n",
       "  <tbody>\n",
       "    <tr>\n",
       "      <th>0</th>\n",
       "      <td>2.266667</td>\n",
       "    </tr>\n",
       "    <tr>\n",
       "      <th>1</th>\n",
       "      <td>2.106667</td>\n",
       "    </tr>\n",
       "    <tr>\n",
       "      <th>2</th>\n",
       "      <td>2.980000</td>\n",
       "    </tr>\n",
       "    <tr>\n",
       "      <th>3</th>\n",
       "      <td>2.893333</td>\n",
       "    </tr>\n",
       "    <tr>\n",
       "      <th>4</th>\n",
       "      <td>3.080000</td>\n",
       "    </tr>\n",
       "  </tbody>\n",
       "</table>\n",
       "</div>"
      ],
      "text/plain": [
       "   Collection\n",
       "0    2.266667\n",
       "1    2.106667\n",
       "2    2.980000\n",
       "3    2.893333\n",
       "4    3.080000"
      ]
     },
     "execution_count": 6,
     "metadata": {},
     "output_type": "execute_result"
    }
   ],
   "source": [
    "data_y.head()"
   ]
  },
  {
   "cell_type": "code",
   "execution_count": 19,
   "id": "041273b3",
   "metadata": {},
   "outputs": [
    {
     "data": {
      "text/plain": [
       "<seaborn.axisgrid.FacetGrid at 0x16e5b59f7d0>"
      ]
     },
     "execution_count": 19,
     "metadata": {},
     "output_type": "execute_result"
    },
    {
     "data": {
      "image/png": "[encoded data removed]",
      "text/plain": [
       "<Figure size 500x500 with 1 Axes>"
      ]
     },
     "metadata": {},
     "output_type": "display_data"
    }
   ],
   "source": [
    "import seaborn as sns\n",
    "sns.displot(data_y.Collection)"
   ]
  },
  {
   "cell_type": "code",
   "execution_count": 7,
   "id": "0fcc58c0",
   "metadata": {},
   "outputs": [],
   "source": [
    "from sklearn.model_selection import train_test_split\n",
    "x_train_full, x_test, y_train_full, y_test = train_test_split(data_x, data_y, random_state=42)\n",
    "x_train, x_val, y_train, y_val = train_test_split(x_train_full, y_train_full, random_state=42)"
   ]
  },
  {
   "cell_type": "code",
   "execution_count": 8,
   "id": "c3747b5b",
   "metadata": {},
   "outputs": [
    {
     "name": "stdout",
     "output_type": "stream",
     "text": [
      "(284, 19) \n",
      " (95, 19) \n",
      " (127, 19)\n"
     ]
    }
   ],
   "source": [
    "print(x_train.shape,\"\\n\",x_val.shape,\"\\n\",x_test.shape)"
   ]
  },
  {
   "cell_type": "code",
   "execution_count": 9,
   "id": "329bdabd",
   "metadata": {},
   "outputs": [],
   "source": [
    "from sklearn.preprocessing import StandardScaler\n",
    "scaler = StandardScaler()\n",
    "x_train = scaler.fit_transform(x_train)\n",
    "x_val = scaler.transform(x_val)\n",
    "x_test = scaler.transform(x_test)"
   ]
  },
  {
   "cell_type": "code",
   "execution_count": null,
   "id": "f6b45ea4",
   "metadata": {},
   "outputs": [],
   "source": [
    "#del model\n",
    "#keras.backend.clear_session()"
   ]
  },
  {
   "cell_type": "code",
   "execution_count": 10,
   "id": "a106ad92",
   "metadata": {},
   "outputs": [],
   "source": [
    "np.random.seed(42)\n",
    "tf.random.set_seed(42)"
   ]
  },
  {
   "cell_type": "code",
   "execution_count": null,
   "id": "978821be",
   "metadata": {},
   "outputs": [],
   "source": [
    "from keras.models import Sequential, load_model\n",
    "from keras.layers import Dense\n",
    "from keras.optimizers import SGD\n",
    "from keras.callbacks import ModelCheckpoint, EarlyStopping"
   ]
  },
  {
   "cell_type": "code",
   "execution_count": 11,
   "id": "1b4a6c1c",
   "metadata": {},
   "outputs": [],
   "source": [
    "model = Sequential()\n",
    "model.add(Dense(30, activation='relu', input_shape = x_train.shape[1:]))\n",
    "model.add(Dense(30, activation='relu'))\n",
    "model.add(Dense(1))"
   ]
  },
  {
   "cell_type": "code",
   "execution_count": 12,
   "id": "5528c7dd",
   "metadata": {},
   "outputs": [],
   "source": [
    "model.compile(optimizer = SGD(learning_rate = 1e-2),\n",
    "             loss = \"mean_squared_error\",\n",
    "             metrics = ['mae'])"
   ]
  },
  {
   "cell_type": "code",
   "execution_count": 13,
   "id": "c606d05a",
   "metadata": {},
   "outputs": [],
   "source": [
    "checkpoint_cb = ModelCheckpoint(\"Movie_Revenue_Model.h5\", save_best_only=True)\n",
    "early_stopping_cb = EarlyStopping(patience=3, restore_best_weights=True)"
   ]
  },
  {
   "cell_type": "code",
   "execution_count": 15,
   "id": "848d3a7a",
   "metadata": {
    "collapsed": true
   },
   "outputs": [
    {
     "name": "stdout",
     "output_type": "stream",
     "text": [
      "Epoch 1/100\n",
      "9/9 [==============================] - 1s 31ms/step - loss: 3.0214 - mae: 1.4665 - val_loss: 1.2818 - val_mae: 0.8793\n",
      "Epoch 2/100\n",
      "9/9 [==============================] - 0s 10ms/step - loss: 0.6458 - mae: 0.5957 - val_loss: 0.6918 - val_mae: 0.6518\n",
      "Epoch 3/100\n",
      "1/9 [==>...........................] - ETA: 0s - loss: 0.7461 - mae: 0.6956"
     ]
    },
    {
     "name": "stderr",
     "output_type": "stream",
     "text": [
      "C:\\Users\\geetika singh\\anaconda3\\Lib\\site-packages\\keras\\src\\engine\\training.py:3000: UserWarning: You are saving your model as an HDF5 file via `model.save()`. This file format is considered legacy. We recommend using instead the native Keras format, e.g. `model.save('my_model.keras')`.\n",
      "  saving_api.save_model(\n"
     ]
    },
    {
     "name": "stdout",
     "output_type": "stream",
     "text": [
      "9/9 [==============================] - 0s 11ms/step - loss: 0.4134 - mae: 0.4960 - val_loss: 0.4817 - val_mae: 0.5449\n",
      "Epoch 4/100\n",
      "9/9 [==============================] - 0s 9ms/step - loss: 0.3010 - mae: 0.4305 - val_loss: 0.3699 - val_mae: 0.4765\n",
      "Epoch 5/100\n",
      "9/9 [==============================] - 0s 7ms/step - loss: 0.2358 - mae: 0.3801 - val_loss: 0.3006 - val_mae: 0.4242\n",
      "Epoch 6/100\n",
      "9/9 [==============================] - 0s 8ms/step - loss: 0.1973 - mae: 0.3473 - val_loss: 0.2615 - val_mae: 0.3890\n",
      "Epoch 7/100\n",
      "9/9 [==============================] - 0s 9ms/step - loss: 0.1760 - mae: 0.3279 - val_loss: 0.2367 - val_mae: 0.3650\n",
      "Epoch 8/100\n",
      "9/9 [==============================] - 0s 7ms/step - loss: 0.1584 - mae: 0.3117 - val_loss: 0.2276 - val_mae: 0.3587\n",
      "Epoch 9/100\n",
      "9/9 [==============================] - 0s 8ms/step - loss: 0.1474 - mae: 0.3028 - val_loss: 0.2222 - val_mae: 0.3554\n",
      "Epoch 10/100\n",
      "9/9 [==============================] - 0s 9ms/step - loss: 0.1379 - mae: 0.2944 - val_loss: 0.2087 - val_mae: 0.3390\n",
      "Epoch 11/100\n",
      "9/9 [==============================] - 0s 7ms/step - loss: 0.1318 - mae: 0.2872 - val_loss: 0.2070 - val_mae: 0.3375\n",
      "Epoch 12/100\n",
      "9/9 [==============================] - 0s 10ms/step - loss: 0.1266 - mae: 0.2809 - val_loss: 0.2039 - val_mae: 0.3353\n",
      "Epoch 13/100\n",
      "9/9 [==============================] - 0s 8ms/step - loss: 0.1210 - mae: 0.2765 - val_loss: 0.1968 - val_mae: 0.3268\n",
      "Epoch 14/100\n",
      "9/9 [==============================] - 0s 10ms/step - loss: 0.1173 - mae: 0.2702 - val_loss: 0.1957 - val_mae: 0.3264\n",
      "Epoch 15/100\n",
      "9/9 [==============================] - 0s 10ms/step - loss: 0.1133 - mae: 0.2670 - val_loss: 0.1930 - val_mae: 0.3228\n",
      "Epoch 16/100\n",
      "9/9 [==============================] - 0s 9ms/step - loss: 0.1111 - mae: 0.2619 - val_loss: 0.1901 - val_mae: 0.3200\n",
      "Epoch 17/100\n",
      "9/9 [==============================] - 0s 7ms/step - loss: 0.1068 - mae: 0.2568 - val_loss: 0.1873 - val_mae: 0.3168\n",
      "Epoch 18/100\n",
      "9/9 [==============================] - 0s 8ms/step - loss: 0.1045 - mae: 0.2557 - val_loss: 0.1846 - val_mae: 0.3133\n",
      "Epoch 19/100\n",
      "9/9 [==============================] - 0s 9ms/step - loss: 0.1016 - mae: 0.2494 - val_loss: 0.1845 - val_mae: 0.3147\n",
      "Epoch 20/100\n",
      "9/9 [==============================] - 0s 9ms/step - loss: 0.0996 - mae: 0.2471 - val_loss: 0.1821 - val_mae: 0.3114\n",
      "Epoch 21/100\n",
      "9/9 [==============================] - 0s 10ms/step - loss: 0.0972 - mae: 0.2452 - val_loss: 0.1806 - val_mae: 0.3092\n",
      "Epoch 22/100\n",
      "9/9 [==============================] - 0s 8ms/step - loss: 0.0948 - mae: 0.2412 - val_loss: 0.1797 - val_mae: 0.3088\n",
      "Epoch 23/100\n",
      "9/9 [==============================] - 0s 10ms/step - loss: 0.0927 - mae: 0.2386 - val_loss: 0.1780 - val_mae: 0.3069\n",
      "Epoch 24/100\n",
      "9/9 [==============================] - 0s 6ms/step - loss: 0.0913 - mae: 0.2357 - val_loss: 0.1788 - val_mae: 0.3089\n",
      "Epoch 25/100\n",
      "9/9 [==============================] - 0s 9ms/step - loss: 0.0890 - mae: 0.2330 - val_loss: 0.1754 - val_mae: 0.3043\n",
      "Epoch 26/100\n",
      "9/9 [==============================] - 0s 7ms/step - loss: 0.0876 - mae: 0.2300 - val_loss: 0.1760 - val_mae: 0.3063\n",
      "Epoch 27/100\n",
      "9/9 [==============================] - 0s 9ms/step - loss: 0.0862 - mae: 0.2281 - val_loss: 0.1746 - val_mae: 0.3046\n",
      "Epoch 28/100\n",
      "9/9 [==============================] - 0s 9ms/step - loss: 0.0848 - mae: 0.2245 - val_loss: 0.1732 - val_mae: 0.3030\n",
      "Epoch 29/100\n",
      "9/9 [==============================] - 0s 8ms/step - loss: 0.0830 - mae: 0.2231 - val_loss: 0.1723 - val_mae: 0.3023\n",
      "Epoch 30/100\n",
      "9/9 [==============================] - 0s 10ms/step - loss: 0.0813 - mae: 0.2212 - val_loss: 0.1703 - val_mae: 0.2990\n",
      "Epoch 31/100\n",
      "9/9 [==============================] - 0s 9ms/step - loss: 0.0799 - mae: 0.2181 - val_loss: 0.1690 - val_mae: 0.2964\n",
      "Epoch 32/100\n",
      "9/9 [==============================] - 0s 10ms/step - loss: 0.0796 - mae: 0.2171 - val_loss: 0.1688 - val_mae: 0.2972\n",
      "Epoch 33/100\n",
      "9/9 [==============================] - 0s 6ms/step - loss: 0.0777 - mae: 0.2139 - val_loss: 0.1692 - val_mae: 0.2995\n",
      "Epoch 34/100\n",
      "9/9 [==============================] - 0s 8ms/step - loss: 0.0769 - mae: 0.2146 - val_loss: 0.1687 - val_mae: 0.2993\n",
      "Epoch 35/100\n",
      "9/9 [==============================] - 0s 9ms/step - loss: 0.0754 - mae: 0.2116 - val_loss: 0.1676 - val_mae: 0.2979\n",
      "Epoch 36/100\n",
      "9/9 [==============================] - 0s 9ms/step - loss: 0.0738 - mae: 0.2082 - val_loss: 0.1669 - val_mae: 0.2975\n",
      "Epoch 37/100\n",
      "9/9 [==============================] - 0s 8ms/step - loss: 0.0731 - mae: 0.2067 - val_loss: 0.1656 - val_mae: 0.2952\n",
      "Epoch 38/100\n",
      "9/9 [==============================] - 0s 9ms/step - loss: 0.0718 - mae: 0.2041 - val_loss: 0.1660 - val_mae: 0.2972\n",
      "Epoch 39/100\n",
      "9/9 [==============================] - 0s 7ms/step - loss: 0.0712 - mae: 0.2038 - val_loss: 0.1653 - val_mae: 0.2967\n",
      "Epoch 40/100\n",
      "9/9 [==============================] - 0s 10ms/step - loss: 0.0704 - mae: 0.2024 - val_loss: 0.1652 - val_mae: 0.2972\n",
      "Epoch 41/100\n",
      "9/9 [==============================] - 0s 8ms/step - loss: 0.0696 - mae: 0.2015 - val_loss: 0.1641 - val_mae: 0.2954\n",
      "Epoch 42/100\n",
      "9/9 [==============================] - 0s 7ms/step - loss: 0.0685 - mae: 0.1993 - val_loss: 0.1639 - val_mae: 0.2961\n",
      "Epoch 43/100\n",
      "9/9 [==============================] - 0s 8ms/step - loss: 0.0676 - mae: 0.1980 - val_loss: 0.1635 - val_mae: 0.2957\n",
      "Epoch 44/100\n",
      "9/9 [==============================] - 0s 9ms/step - loss: 0.0670 - mae: 0.1963 - val_loss: 0.1627 - val_mae: 0.2946\n",
      "Epoch 45/100\n",
      "9/9 [==============================] - 0s 8ms/step - loss: 0.0660 - mae: 0.1947 - val_loss: 0.1627 - val_mae: 0.2954\n",
      "Epoch 46/100\n",
      "9/9 [==============================] - 0s 8ms/step - loss: 0.0652 - mae: 0.1932 - val_loss: 0.1624 - val_mae: 0.2951\n",
      "Epoch 47/100\n",
      "9/9 [==============================] - 0s 6ms/step - loss: 0.0646 - mae: 0.1919 - val_loss: 0.1625 - val_mae: 0.2956\n",
      "Epoch 48/100\n",
      "9/9 [==============================] - 0s 8ms/step - loss: 0.0634 - mae: 0.1901 - val_loss: 0.1608 - val_mae: 0.2932\n",
      "Epoch 49/100\n",
      "9/9 [==============================] - 0s 7ms/step - loss: 0.0630 - mae: 0.1908 - val_loss: 0.1606 - val_mae: 0.2930\n",
      "Epoch 50/100\n",
      "9/9 [==============================] - 0s 6ms/step - loss: 0.0627 - mae: 0.1895 - val_loss: 0.1613 - val_mae: 0.2945\n",
      "Epoch 51/100\n",
      "9/9 [==============================] - 0s 7ms/step - loss: 0.0621 - mae: 0.1883 - val_loss: 0.1600 - val_mae: 0.2923\n",
      "Epoch 52/100\n",
      "9/9 [==============================] - 0s 6ms/step - loss: 0.0615 - mae: 0.1882 - val_loss: 0.1607 - val_mae: 0.2939\n",
      "Epoch 53/100\n",
      "9/9 [==============================] - 0s 6ms/step - loss: 0.0608 - mae: 0.1863 - val_loss: 0.1612 - val_mae: 0.2951\n",
      "Epoch 54/100\n",
      "9/9 [==============================] - 0s 6ms/step - loss: 0.0599 - mae: 0.1832 - val_loss: 0.1601 - val_mae: 0.2944\n",
      "Epoch 55/100\n",
      "9/9 [==============================] - 0s 8ms/step - loss: 0.0594 - mae: 0.1833 - val_loss: 0.1596 - val_mae: 0.2939\n",
      "Epoch 56/100\n",
      "9/9 [==============================] - 0s 9ms/step - loss: 0.0592 - mae: 0.1836 - val_loss: 0.1588 - val_mae: 0.2920\n",
      "Epoch 57/100\n",
      "9/9 [==============================] - 0s 9ms/step - loss: 0.0587 - mae: 0.1815 - val_loss: 0.1582 - val_mae: 0.2913\n",
      "Epoch 58/100\n",
      "9/9 [==============================] - 0s 7ms/step - loss: 0.0577 - mae: 0.1797 - val_loss: 0.1580 - val_mae: 0.2917\n",
      "Epoch 59/100\n",
      "9/9 [==============================] - 0s 7ms/step - loss: 0.0575 - mae: 0.1803 - val_loss: 0.1591 - val_mae: 0.2937\n",
      "Epoch 60/100\n",
      "9/9 [==============================] - 0s 6ms/step - loss: 0.0578 - mae: 0.1805 - val_loss: 0.1586 - val_mae: 0.2932\n",
      "Epoch 61/100\n",
      "9/9 [==============================] - 0s 9ms/step - loss: 0.0560 - mae: 0.1772 - val_loss: 0.1578 - val_mae: 0.2922\n",
      "Epoch 62/100\n",
      "9/9 [==============================] - 0s 9ms/step - loss: 0.0560 - mae: 0.1776 - val_loss: 0.1570 - val_mae: 0.2906\n",
      "Epoch 63/100\n",
      "9/9 [==============================] - 0s 6ms/step - loss: 0.0555 - mae: 0.1762 - val_loss: 0.1573 - val_mae: 0.2922\n",
      "Epoch 64/100\n",
      "9/9 [==============================] - 0s 6ms/step - loss: 0.0546 - mae: 0.1749 - val_loss: 0.1571 - val_mae: 0.2919\n",
      "Epoch 65/100\n",
      "9/9 [==============================] - 0s 7ms/step - loss: 0.0545 - mae: 0.1755 - val_loss: 0.1564 - val_mae: 0.2906\n",
      "Epoch 66/100\n"
     ]
    },
    {
     "name": "stdout",
     "output_type": "stream",
     "text": [
      "9/9 [==============================] - 0s 7ms/step - loss: 0.0543 - mae: 0.1742 - val_loss: 0.1568 - val_mae: 0.2919\n",
      "Epoch 67/100\n",
      "9/9 [==============================] - 0s 6ms/step - loss: 0.0535 - mae: 0.1735 - val_loss: 0.1570 - val_mae: 0.2923\n",
      "Epoch 68/100\n",
      "9/9 [==============================] - 0s 6ms/step - loss: 0.0534 - mae: 0.1729 - val_loss: 0.1568 - val_mae: 0.2923\n",
      "Epoch 69/100\n",
      "9/9 [==============================] - 0s 9ms/step - loss: 0.0528 - mae: 0.1713 - val_loss: 0.1559 - val_mae: 0.2908\n",
      "Epoch 70/100\n",
      "9/9 [==============================] - 0s 6ms/step - loss: 0.0522 - mae: 0.1703 - val_loss: 0.1561 - val_mae: 0.2914\n",
      "Epoch 71/100\n",
      "9/9 [==============================] - 0s 6ms/step - loss: 0.0519 - mae: 0.1708 - val_loss: 0.1564 - val_mae: 0.2922\n",
      "Epoch 72/100\n",
      "9/9 [==============================] - 0s 8ms/step - loss: 0.0516 - mae: 0.1687 - val_loss: 0.1556 - val_mae: 0.2906\n",
      "Epoch 73/100\n",
      "9/9 [==============================] - 0s 6ms/step - loss: 0.0509 - mae: 0.1679 - val_loss: 0.1564 - val_mae: 0.2931\n",
      "Epoch 74/100\n",
      "9/9 [==============================] - 0s 8ms/step - loss: 0.0506 - mae: 0.1678 - val_loss: 0.1548 - val_mae: 0.2896\n",
      "Epoch 75/100\n",
      "9/9 [==============================] - 0s 9ms/step - loss: 0.0501 - mae: 0.1670 - val_loss: 0.1546 - val_mae: 0.2893\n",
      "Epoch 76/100\n",
      "9/9 [==============================] - 0s 7ms/step - loss: 0.0501 - mae: 0.1659 - val_loss: 0.1545 - val_mae: 0.2895\n",
      "Epoch 77/100\n",
      "9/9 [==============================] - 0s 8ms/step - loss: 0.0497 - mae: 0.1662 - val_loss: 0.1543 - val_mae: 0.2897\n",
      "Epoch 78/100\n",
      "9/9 [==============================] - 0s 9ms/step - loss: 0.0494 - mae: 0.1659 - val_loss: 0.1542 - val_mae: 0.2894\n",
      "Epoch 79/100\n",
      "9/9 [==============================] - 0s 6ms/step - loss: 0.0487 - mae: 0.1646 - val_loss: 0.1552 - val_mae: 0.2912\n",
      "Epoch 80/100\n",
      "9/9 [==============================] - 0s 7ms/step - loss: 0.0485 - mae: 0.1638 - val_loss: 0.1540 - val_mae: 0.2895\n",
      "Epoch 81/100\n",
      "9/9 [==============================] - 0s 6ms/step - loss: 0.0482 - mae: 0.1630 - val_loss: 0.1541 - val_mae: 0.2901\n",
      "Epoch 82/100\n",
      "9/9 [==============================] - 0s 8ms/step - loss: 0.0478 - mae: 0.1627 - val_loss: 0.1536 - val_mae: 0.2894\n",
      "Epoch 83/100\n",
      "9/9 [==============================] - 0s 6ms/step - loss: 0.0474 - mae: 0.1614 - val_loss: 0.1544 - val_mae: 0.2909\n",
      "Epoch 84/100\n",
      "9/9 [==============================] - 0s 8ms/step - loss: 0.0474 - mae: 0.1612 - val_loss: 0.1533 - val_mae: 0.2889\n",
      "Epoch 85/100\n",
      "9/9 [==============================] - 0s 6ms/step - loss: 0.0471 - mae: 0.1614 - val_loss: 0.1534 - val_mae: 0.2889\n",
      "Epoch 86/100\n",
      "9/9 [==============================] - 0s 8ms/step - loss: 0.0468 - mae: 0.1604 - val_loss: 0.1528 - val_mae: 0.2876\n",
      "Epoch 87/100\n",
      "9/9 [==============================] - 0s 9ms/step - loss: 0.0468 - mae: 0.1600 - val_loss: 0.1527 - val_mae: 0.2880\n",
      "Epoch 88/100\n",
      "9/9 [==============================] - 0s 7ms/step - loss: 0.0465 - mae: 0.1597 - val_loss: 0.1526 - val_mae: 0.2881\n",
      "Epoch 89/100\n",
      "9/9 [==============================] - 0s 6ms/step - loss: 0.0459 - mae: 0.1593 - val_loss: 0.1527 - val_mae: 0.2879\n",
      "Epoch 90/100\n",
      "9/9 [==============================] - 0s 6ms/step - loss: 0.0454 - mae: 0.1573 - val_loss: 0.1528 - val_mae: 0.2887\n",
      "Epoch 91/100\n",
      "9/9 [==============================] - 0s 7ms/step - loss: 0.0456 - mae: 0.1571 - val_loss: 0.1520 - val_mae: 0.2875\n",
      "Epoch 92/100\n",
      "9/9 [==============================] - 0s 8ms/step - loss: 0.0450 - mae: 0.1566 - val_loss: 0.1519 - val_mae: 0.2866\n",
      "Epoch 93/100\n",
      "9/9 [==============================] - 0s 8ms/step - loss: 0.0446 - mae: 0.1568 - val_loss: 0.1517 - val_mae: 0.2866\n",
      "Epoch 94/100\n",
      "9/9 [==============================] - 0s 6ms/step - loss: 0.0445 - mae: 0.1559 - val_loss: 0.1521 - val_mae: 0.2878\n",
      "Epoch 95/100\n",
      "9/9 [==============================] - 0s 6ms/step - loss: 0.0444 - mae: 0.1551 - val_loss: 0.1517 - val_mae: 0.2874\n",
      "Epoch 96/100\n",
      "9/9 [==============================] - 0s 8ms/step - loss: 0.0437 - mae: 0.1544 - val_loss: 0.1512 - val_mae: 0.2861\n",
      "Epoch 97/100\n",
      "9/9 [==============================] - 0s 6ms/step - loss: 0.0435 - mae: 0.1540 - val_loss: 0.1513 - val_mae: 0.2870\n",
      "Epoch 98/100\n",
      "9/9 [==============================] - 0s 6ms/step - loss: 0.0432 - mae: 0.1532 - val_loss: 0.1513 - val_mae: 0.2871\n",
      "Epoch 99/100\n",
      "9/9 [==============================] - 0s 8ms/step - loss: 0.0430 - mae: 0.1532 - val_loss: 0.1509 - val_mae: 0.2859\n",
      "Epoch 100/100\n",
      "9/9 [==============================] - 0s 4ms/step - loss: 0.0428 - mae: 0.1526 - val_loss: 0.1512 - val_mae: 0.2872\n"
     ]
    }
   ],
   "source": [
    "history = model.fit(x_train, y_train, epochs=200, validation_data=(x_val, y_val),\n",
    "                    callbacks = [checkpoint_cb, early_stopping_cb])"
   ]
  },
  {
   "cell_type": "code",
   "execution_count": 16,
   "id": "28c6f86c",
   "metadata": {},
   "outputs": [
    {
     "name": "stdout",
     "output_type": "stream",
     "text": [
      "4/4 [==============================] - 0s 3ms/step - loss: 2.4167 - mae: 0.4439\n"
     ]
    }
   ],
   "source": [
    "model = load_model(\"Movie_Revenue_Model.h5\")\n",
    "mse_test = model.evaluate(x_test,y_test)"
   ]
  },
  {
   "cell_type": "code",
   "execution_count": 17,
   "id": "77470463",
   "metadata": {},
   "outputs": [
    {
     "name": "stdout",
     "output_type": "stream",
     "text": [
      "1/1 [==============================] - 0s 89ms/step\n"
     ]
    },
    {
     "data": {
      "text/plain": [
       "array([[2.7153692],\n",
       "       [2.7878022],\n",
       "       [1.6116818],\n",
       "       [2.428001 ],\n",
       "       [1.8697668]], dtype=float32)"
      ]
     },
     "execution_count": 17,
     "metadata": {},
     "output_type": "execute_result"
    }
   ],
   "source": [
    "y_pred = model.predict(x_test[:5])\n",
    "y_pred"
   ]
  },
  {
   "cell_type": "code",
   "execution_count": 18,
   "id": "6d7e4633",
   "metadata": {},
   "outputs": [
    {
     "data": {
      "text/html": [
       "<div>\n",
       "<style scoped>\n",
       "    .dataframe tbody tr th:only-of-type {\n",
       "        vertical-align: middle;\n",
       "    }\n",
       "\n",
       "    .dataframe tbody tr th {\n",
       "        vertical-align: top;\n",
       "    }\n",
       "\n",
       "    .dataframe thead th {\n",
       "        text-align: right;\n",
       "    }\n",
       "</style>\n",
       "<table border=\"1\" class=\"dataframe\">\n",
       "  <thead>\n",
       "    <tr style=\"text-align: right;\">\n",
       "      <th></th>\n",
       "      <th>Collection</th>\n",
       "    </tr>\n",
       "  </thead>\n",
       "  <tbody>\n",
       "    <tr>\n",
       "      <th>173</th>\n",
       "      <td>2.240000</td>\n",
       "    </tr>\n",
       "    <tr>\n",
       "      <th>274</th>\n",
       "      <td>2.826667</td>\n",
       "    </tr>\n",
       "    <tr>\n",
       "      <th>491</th>\n",
       "      <td>1.573333</td>\n",
       "    </tr>\n",
       "    <tr>\n",
       "      <th>72</th>\n",
       "      <td>2.186667</td>\n",
       "    </tr>\n",
       "    <tr>\n",
       "      <th>452</th>\n",
       "      <td>1.740000</td>\n",
       "    </tr>\n",
       "  </tbody>\n",
       "</table>\n",
       "</div>"
      ],
      "text/plain": [
       "     Collection\n",
       "173    2.240000\n",
       "274    2.826667\n",
       "491    1.573333\n",
       "72     2.186667\n",
       "452    1.740000"
      ]
     },
     "execution_count": 18,
     "metadata": {},
     "output_type": "execute_result"
    }
   ],
   "source": [
    "y_test[:5]"
   ]
  },
  {
   "cell_type": "code",
   "execution_count": null,
   "id": "282cca06",
   "metadata": {},
   "outputs": [],
   "source": []
  }
 ],
 "metadata": {
  "kernelspec": {
   "display_name": "Python 3 (ipykernel)",
   "language": "python",
   "name": "python3"
  },
  "language_info": {
   "codemirror_mode": {
    "name": "ipython",
    "version": 3
   },
   "file_extension": ".py",
   "mimetype": "text/x-python",
   "name": "python",
   "nbconvert_exporter": "python",
   "pygments_lexer": "ipython3",
   "version": "3.11.4"
  }
 },
 "nbformat": 4,
 "nbformat_minor": 5
}
